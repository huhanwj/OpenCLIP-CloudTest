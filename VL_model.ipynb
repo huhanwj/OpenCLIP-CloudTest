{
 "cells": [
  {
   "cell_type": "code",
   "execution_count": 1,
   "metadata": {},
   "outputs": [
    {
     "name": "stderr",
     "output_type": "stream",
     "text": [
      "2024-05-30 15:50:33,121 - modelscope - INFO - Loading ast index from /home/hanhu/.cache/modelscope/ast_indexer\n",
      "2024-05-30 15:50:33,121 - modelscope - INFO - No valid ast index found from /home/hanhu/.cache/modelscope/ast_indexer, generating ast index from prebuilt!\n",
      "2024-05-30 15:50:33,204 - modelscope - INFO - Loading done! Current index file version is 1.14.0, with md5 05b22dfa3e482a5a25d77c84ce59a9c9 and a total number of 976 components indexed\n",
      "Downloading: 100%|██████████| 122/122 [00:00<00:00, 485kB/s]\n",
      "Downloading: 100%|██████████| 570/570 [00:00<00:00, 640kB/s]\n",
      "Downloading: 100%|██████████| 1.13k/1.13k [00:00<00:00, 9.41MB/s]\n",
      "Downloading: 100%|██████████| 58.0/58.0 [00:00<00:00, 430kB/s]\n",
      "Downloading: 100%|██████████| 183/183 [00:00<00:00, 511kB/s]\n",
      "Downloading: 100%|██████████| 17.0k/17.0k [00:00<00:00, 55.9kB/s]\n",
      "Downloading: 100%|██████████| 512k/512k [00:01<00:00, 337kB/s]\n",
      "Downloading: 100%|██████████| 637/637 [00:00<00:00, 5.72MB/s]\n",
      "Downloading: 100%|█████████▉| 3.67G/3.67G [05:33<00:00, 11.8MB/s]\n",
      "Downloading: 100%|██████████| 316/316 [00:00<00:00, 2.28MB/s]\n",
      "Downloading: 100%|█████████▉| 9.26G/9.26G [15:01<00:00, 11.0MB/s]\n",
      "Downloading: 100%|█████████▉| 3.25G/3.25G [06:05<00:00, 9.53MB/s]\n",
      "Downloading: 100%|█████████▉| 2.35G/2.35G [05:01<00:00, 8.39MB/s]\n",
      "Downloading: 100%|██████████| 87.4k/87.4k [00:00<00:00, 191kB/s]\n",
      "Downloading: 100%|██████████| 8.02k/8.02k [00:00<00:00, 6.82MB/s]\n",
      "Downloading: 100%|██████████| 11.5k/11.5k [00:00<00:00, 128kB/s]\n",
      "Downloading: 100%|██████████| 389/389 [00:00<00:00, 754kB/s]\n",
      "Downloading: 100%|██████████| 267/267 [00:00<00:00, 513kB/s]\n",
      "Downloading: 100%|██████████| 2.12M/2.12M [00:02<00:00, 895kB/s]\n",
      "Downloading: 100%|██████████| 0.99M/0.99M [00:03<00:00, 266kB/s]\n",
      "Downloading: 100%|██████████| 1.94k/1.94k [00:00<00:00, 10.3MB/s]\n",
      "Downloading: 100%|██████████| 904/904 [00:00<00:00, 6.61MB/s]\n",
      "Downloading: 100%|██████████| 842k/842k [00:03<00:00, 218kB/s]\n"
     ]
    }
   ],
   "source": [
    "#模型下载\n",
    "from modelscope import snapshot_download\n",
    "model_dir = snapshot_download('01ai/Yi-VL-6B',cache_dir='model/')"
   ]
  },
  {
   "cell_type": "code",
   "execution_count": 1,
   "metadata": {},
   "outputs": [
    {
     "name": "stderr",
     "output_type": "stream",
     "text": [
      "/home/huhan/miniconda3/envs/yichat/lib/python3.10/site-packages/huggingface_hub/file_download.py:1132: FutureWarning: `resume_download` is deprecated and will be removed in version 1.0.0. Downloads always resume when possible. If you want to force a new download, use `force_download=True`.\n",
      "  warnings.warn(\n"
     ]
    },
    {
     "data": {
      "application/vnd.jupyter.widget-view+json": {
       "model_id": "37d91ff0937f4ed38de9a0f88e8507fe",
       "version_major": 2,
       "version_minor": 0
      },
      "text/plain": [
       "Fetching 21 files:   0%|          | 0/21 [00:00<?, ?it/s]"
      ]
     },
     "metadata": {},
     "output_type": "display_data"
    },
    {
     "data": {
      "application/vnd.jupyter.widget-view+json": {
       "model_id": "9ba00233abd046b39bf782cc35aed030",
       "version_major": 2,
       "version_minor": 0
      },
      "text/plain": [
       "minicpmv2-cases_2.png:   0%|          | 0.00/19.2M [00:00<?, ?B/s]"
      ]
     },
     "metadata": {},
     "output_type": "display_data"
    },
    {
     "data": {
      "application/vnd.jupyter.widget-view+json": {
       "model_id": "4bd3128506304fe0a16d52f6facae3f1",
       "version_major": 2,
       "version_minor": 0
      },
      "text/plain": [
       "london_car.gif:   0%|          | 0.00/7.64M [00:00<?, ?B/s]"
      ]
     },
     "metadata": {},
     "output_type": "display_data"
    },
    {
     "data": {
      "application/vnd.jupyter.widget-view+json": {
       "model_id": "0d48ab35959146929b2a290dcbe84fe6",
       "version_major": 2,
       "version_minor": 0
      },
      "text/plain": [
       "station.gif:   0%|          | 0.00/7.42M [00:00<?, ?B/s]"
      ]
     },
     "metadata": {},
     "output_type": "display_data"
    },
    {
     "data": {
      "application/vnd.jupyter.widget-view+json": {
       "model_id": "dddd759c032143d4b1a0db1db03329e8",
       "version_major": 2,
       "version_minor": 0
      },
      "text/plain": [
       ".gitattributes:   0%|          | 0.00/1.72k [00:00<?, ?B/s]"
      ]
     },
     "metadata": {},
     "output_type": "display_data"
    },
    {
     "data": {
      "application/vnd.jupyter.widget-view+json": {
       "model_id": "3dc1bdff0d1f47f9929c3d6f47e6476e",
       "version_major": 2,
       "version_minor": 0
      },
      "text/plain": [
       "README.md:   0%|          | 0.00/9.38k [00:00<?, ?B/s]"
      ]
     },
     "metadata": {},
     "output_type": "display_data"
    },
    {
     "data": {
      "application/vnd.jupyter.widget-view+json": {
       "model_id": "5504bcafd24f4807b64aa01b69da3a62",
       "version_major": 2,
       "version_minor": 0
      },
      "text/plain": [
       "english_menu.gif:   0%|          | 0.00/5.61M [00:00<?, ?B/s]"
      ]
     },
     "metadata": {},
     "output_type": "display_data"
    },
    {
     "data": {
      "application/vnd.jupyter.widget-view+json": {
       "model_id": "3bb5077d0b5c422e95bcc12ffe4b271a",
       "version_major": 2,
       "version_minor": 0
      },
      "text/plain": [
       "minicpmv-2-peformance2.png:   0%|          | 0.00/823k [00:00<?, ?B/s]"
      ]
     },
     "metadata": {},
     "output_type": "display_data"
    },
    {
     "data": {
      "application/vnd.jupyter.widget-view+json": {
       "model_id": "ffae6a4b63b84e648461a16e3052b44d",
       "version_major": 2,
       "version_minor": 0
      },
      "text/plain": [
       "minicpmv-2-benchmark.png:   0%|          | 0.00/446k [00:00<?, ?B/s]"
      ]
     },
     "metadata": {},
     "output_type": "display_data"
    },
    {
     "data": {
      "application/vnd.jupyter.widget-view+json": {
       "model_id": "a00d41c4fbc64513be29bb874fc12241",
       "version_major": 2,
       "version_minor": 0
      },
      "text/plain": [
       "config.json:   0%|          | 0.00/1.18k [00:00<?, ?B/s]"
      ]
     },
     "metadata": {},
     "output_type": "display_data"
    },
    {
     "data": {
      "application/vnd.jupyter.widget-view+json": {
       "model_id": "c3f426a40e2f40d094086bd837f75a42",
       "version_major": 2,
       "version_minor": 0
      },
      "text/plain": [
       "model.safetensors.index.json:   0%|          | 0.00/54.6k [00:00<?, ?B/s]"
      ]
     },
     "metadata": {},
     "output_type": "display_data"
    },
    {
     "data": {
      "application/vnd.jupyter.widget-view+json": {
       "model_id": "05a5c3d4cde24b009d96f05ad1f7c8b1",
       "version_major": 2,
       "version_minor": 0
      },
      "text/plain": [
       "configuration_minicpm.py:   0%|          | 0.00/10.9k [00:00<?, ?B/s]"
      ]
     },
     "metadata": {},
     "output_type": "display_data"
    },
    {
     "data": {
      "application/vnd.jupyter.widget-view+json": {
       "model_id": "a49d594a07994a29b407a55a2dcc6205",
       "version_major": 2,
       "version_minor": 0
      },
      "text/plain": [
       "model-00001-of-00002.safetensors:   0%|          | 0.00/4.99G [00:00<?, ?B/s]"
      ]
     },
     "metadata": {},
     "output_type": "display_data"
    },
    {
     "data": {
      "application/vnd.jupyter.widget-view+json": {
       "model_id": "4842742081f74bbdbe66380439e5875e",
       "version_major": 2,
       "version_minor": 0
      },
      "text/plain": [
       "generation_config.json:   0%|          | 0.00/111 [00:00<?, ?B/s]"
      ]
     },
     "metadata": {},
     "output_type": "display_data"
    },
    {
     "data": {
      "application/vnd.jupyter.widget-view+json": {
       "model_id": "4c72ece13dd14947a0d79811e930fa4d",
       "version_major": 2,
       "version_minor": 0
      },
      "text/plain": [
       "model-00002-of-00002.safetensors:   0%|          | 0.00/1.88G [00:00<?, ?B/s]"
      ]
     },
     "metadata": {},
     "output_type": "display_data"
    },
    {
     "data": {
      "application/vnd.jupyter.widget-view+json": {
       "model_id": "9bf2d05ab731437180ef3ee62f52c435",
       "version_major": 2,
       "version_minor": 0
      },
      "text/plain": [
       "modeling_minicpm.py:   0%|          | 0.00/71.2k [00:00<?, ?B/s]"
      ]
     },
     "metadata": {},
     "output_type": "display_data"
    },
    {
     "data": {
      "application/vnd.jupyter.widget-view+json": {
       "model_id": "3880384fdc2e4d1a83a01d72d8826568",
       "version_major": 2,
       "version_minor": 0
      },
      "text/plain": [
       "modeling_minicpmv.py:   0%|          | 0.00/19.6k [00:00<?, ?B/s]"
      ]
     },
     "metadata": {},
     "output_type": "display_data"
    },
    {
     "data": {
      "application/vnd.jupyter.widget-view+json": {
       "model_id": "57366834cd864e3191c57f586b089f69",
       "version_major": 2,
       "version_minor": 0
      },
      "text/plain": [
       "tokenizer.model:   0%|          | 0.00/1.99M [00:00<?, ?B/s]"
      ]
     },
     "metadata": {},
     "output_type": "display_data"
    },
    {
     "data": {
      "application/vnd.jupyter.widget-view+json": {
       "model_id": "9c8d9a31253c4f5d8cb9f90df344cc7e",
       "version_major": 2,
       "version_minor": 0
      },
      "text/plain": [
       "tokenizer.json:   0%|          | 0.00/6.20M [00:00<?, ?B/s]"
      ]
     },
     "metadata": {},
     "output_type": "display_data"
    },
    {
     "data": {
      "application/vnd.jupyter.widget-view+json": {
       "model_id": "9b379652460f473d9819e7ff96e9107f",
       "version_major": 2,
       "version_minor": 0
      },
      "text/plain": [
       "resampler.py:   0%|          | 0.00/5.59k [00:00<?, ?B/s]"
      ]
     },
     "metadata": {},
     "output_type": "display_data"
    },
    {
     "data": {
      "application/vnd.jupyter.widget-view+json": {
       "model_id": "2c297884e9ec45e4bfcf1d3a12e6f6b2",
       "version_major": 2,
       "version_minor": 0
      },
      "text/plain": [
       "special_tokens_map.json:   0%|          | 0.00/651 [00:00<?, ?B/s]"
      ]
     },
     "metadata": {},
     "output_type": "display_data"
    },
    {
     "data": {
      "application/vnd.jupyter.widget-view+json": {
       "model_id": "36c21521b83444068436f5c3a5ade685",
       "version_major": 2,
       "version_minor": 0
      },
      "text/plain": [
       "tokenizer_config.json:   0%|          | 0.00/3.34k [00:00<?, ?B/s]"
      ]
     },
     "metadata": {},
     "output_type": "display_data"
    },
    {
     "name": "stdout",
     "output_type": "stream",
     "text": [
      "Finished\n"
     ]
    }
   ],
   "source": [
    "import time\n",
    "from huggingface_hub import snapshot_download\n",
    "#huggingface上的模型名称\n",
    "repo_id = \"openbmb/MiniCPM-V-2\"\n",
    "#本地存储地址\n",
    "local_dir = \"./model/MiniCPM\"\n",
    "cache_dir = local_dir\n",
    "while True:\n",
    "    try:\n",
    "        snapshot_download(cache_dir=cache_dir,\n",
    "        repo_id=repo_id,\n",
    "        local_dir_use_symlinks=False,\n",
    "        resume_download=True\n",
    "        )\n",
    "    except Exception as e :\n",
    "        print(e)\n",
    "        # time.sleep(5)\n",
    "    else:\n",
    "        print('Finished')\n",
    "        break"
   ]
  }
 ],
 "metadata": {
  "kernelspec": {
   "display_name": "vl-client",
   "language": "python",
   "name": "python3"
  },
  "language_info": {
   "codemirror_mode": {
    "name": "ipython",
    "version": 3
   },
   "file_extension": ".py",
   "mimetype": "text/x-python",
   "name": "python",
   "nbconvert_exporter": "python",
   "pygments_lexer": "ipython3",
   "version": "3.10.14"
  }
 },
 "nbformat": 4,
 "nbformat_minor": 2
}
