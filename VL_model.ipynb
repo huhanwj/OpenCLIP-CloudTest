{
 "cells": [
  {
   "cell_type": "code",
   "execution_count": 1,
   "metadata": {},
   "outputs": [
    {
     "name": "stderr",
     "output_type": "stream",
     "text": [
      "2024-05-30 15:50:33,121 - modelscope - INFO - Loading ast index from /home/hanhu/.cache/modelscope/ast_indexer\n",
      "2024-05-30 15:50:33,121 - modelscope - INFO - No valid ast index found from /home/hanhu/.cache/modelscope/ast_indexer, generating ast index from prebuilt!\n",
      "2024-05-30 15:50:33,204 - modelscope - INFO - Loading done! Current index file version is 1.14.0, with md5 05b22dfa3e482a5a25d77c84ce59a9c9 and a total number of 976 components indexed\n",
      "Downloading: 100%|██████████| 122/122 [00:00<00:00, 485kB/s]\n",
      "Downloading: 100%|██████████| 570/570 [00:00<00:00, 640kB/s]\n",
      "Downloading: 100%|██████████| 1.13k/1.13k [00:00<00:00, 9.41MB/s]\n",
      "Downloading: 100%|██████████| 58.0/58.0 [00:00<00:00, 430kB/s]\n",
      "Downloading: 100%|██████████| 183/183 [00:00<00:00, 511kB/s]\n",
      "Downloading: 100%|██████████| 17.0k/17.0k [00:00<00:00, 55.9kB/s]\n",
      "Downloading: 100%|██████████| 512k/512k [00:01<00:00, 337kB/s]\n",
      "Downloading: 100%|██████████| 637/637 [00:00<00:00, 5.72MB/s]\n",
      "Downloading: 100%|█████████▉| 3.67G/3.67G [05:33<00:00, 11.8MB/s]\n",
      "Downloading: 100%|██████████| 316/316 [00:00<00:00, 2.28MB/s]\n",
      "Downloading: 100%|█████████▉| 9.26G/9.26G [15:01<00:00, 11.0MB/s]\n",
      "Downloading: 100%|█████████▉| 3.25G/3.25G [06:05<00:00, 9.53MB/s]\n",
      "Downloading: 100%|█████████▉| 2.35G/2.35G [05:01<00:00, 8.39MB/s]\n",
      "Downloading: 100%|██████████| 87.4k/87.4k [00:00<00:00, 191kB/s]\n",
      "Downloading: 100%|██████████| 8.02k/8.02k [00:00<00:00, 6.82MB/s]\n",
      "Downloading: 100%|██████████| 11.5k/11.5k [00:00<00:00, 128kB/s]\n",
      "Downloading: 100%|██████████| 389/389 [00:00<00:00, 754kB/s]\n",
      "Downloading: 100%|██████████| 267/267 [00:00<00:00, 513kB/s]\n",
      "Downloading: 100%|██████████| 2.12M/2.12M [00:02<00:00, 895kB/s]\n",
      "Downloading: 100%|██████████| 0.99M/0.99M [00:03<00:00, 266kB/s]\n",
      "Downloading: 100%|██████████| 1.94k/1.94k [00:00<00:00, 10.3MB/s]\n",
      "Downloading: 100%|██████████| 904/904 [00:00<00:00, 6.61MB/s]\n",
      "Downloading: 100%|██████████| 842k/842k [00:03<00:00, 218kB/s]\n"
     ]
    }
   ],
   "source": [
    "#模型下载\n",
    "from modelscope import snapshot_download\n",
    "model_dir = snapshot_download('01ai/Yi-VL-6B',cache_dir='model/')"
   ]
  }
 ],
 "metadata": {
  "kernelspec": {
   "display_name": "vl-client",
   "language": "python",
   "name": "python3"
  },
  "language_info": {
   "codemirror_mode": {
    "name": "ipython",
    "version": 3
   },
   "file_extension": ".py",
   "mimetype": "text/x-python",
   "name": "python",
   "nbconvert_exporter": "python",
   "pygments_lexer": "ipython3",
   "version": "3.10.14"
  }
 },
 "nbformat": 4,
 "nbformat_minor": 2
}
